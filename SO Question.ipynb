{
 "cells": [
  {
   "cell_type": "markdown",
   "id": "41b11ddb",
   "metadata": {},
   "source": [
    "### Import libraries"
   ]
  },
  {
   "cell_type": "code",
   "execution_count": 1,
   "id": "4b0ea4f6",
   "metadata": {},
   "outputs": [
    {
     "name": "stdout",
     "output_type": "stream",
     "text": [
      "NumPy version: 1.23.5\n",
      "TensorFlow version: 2.6.0\n"
     ]
    }
   ],
   "source": [
    "import numpy as np\n",
    "import tensorflow as tf\n",
    "import os\n",
    "\n",
    "print(\"NumPy version:\", np.__version__)\n",
    "print(\"TensorFlow version:\", tf.__version__)"
   ]
  },
  {
   "cell_type": "markdown",
   "id": "64236d6e",
   "metadata": {},
   "source": [
    "### Helper functions"
   ]
  },
  {
   "cell_type": "code",
   "execution_count": 2,
   "id": "15dfaa18",
   "metadata": {},
   "outputs": [],
   "source": [
    "def process_image(file_path_tensor):\n",
    "    parts = tf.strings.split(file_path_tensor, os.sep)\n",
    "    label = parts[-2]\n",
    "\n",
    "    image = tf.io.read_file(file_path_tensor)\n",
    "    image = tf.image.decode_jpeg(image)\n",
    "    image = tf.image.resize(image, [128, 128])\n",
    "    image = tf.image.convert_image_dtype(image, tf.float32)\n",
    "    image = image / 255\n",
    "\n",
    "    return image, label\n",
    "\n",
    "\n",
    "def check_shape(x, y):\n",
    "    print(x.shape)\n",
    "    d1, d2, d3 = x.shape\n",
    "    return d3 == 3"
   ]
  },
  {
   "cell_type": "markdown",
   "id": "e56adac4",
   "metadata": {},
   "source": [
    "### Load data"
   ]
  },
  {
   "cell_type": "code",
   "execution_count": 3,
   "id": "d3e973cc",
   "metadata": {},
   "outputs": [
    {
     "name": "stdout",
     "output_type": "stream",
     "text": [
      "Shape: (128, 128, 3)\n",
      "Class label: dog\n"
     ]
    }
   ],
   "source": [
    "images_ds = tf.data.Dataset.list_files(\"./images/*/*\", shuffle=True)\n",
    "\n",
    "file_path = next(iter(images_ds))\n",
    "image, label = process_image(file_path)\n",
    "\n",
    "print(\"Shape:\", image.shape)\n",
    "print(\"Class label:\", label.numpy().decode())"
   ]
  },
  {
   "cell_type": "markdown",
   "id": "6956162a",
   "metadata": {},
   "source": [
    "### Technique 1"
   ]
  },
  {
   "cell_type": "code",
   "execution_count": 4,
   "id": "f33e6c3f",
   "metadata": {
    "scrolled": false
   },
   "outputs": [
    {
     "name": "stdout",
     "output_type": "stream",
     "text": [
      "(128, 128, None)\n",
      "Final X count: 0\n"
     ]
    }
   ],
   "source": [
    "# ETL pipeline.\n",
    "X_y_tensors = (\n",
    "    images_ds\n",
    "    .map(process_image)   # Extra and Transform\n",
    "    .filter(check_shape)  # Filter\n",
    "    .as_numpy_iterator()  # Load\n",
    ")\n",
    "\n",
    "print(\"Final X count:\", len(list(X_y_tensors)))"
   ]
  },
  {
   "cell_type": "markdown",
   "id": "f6d3549f",
   "metadata": {},
   "source": [
    "### Technique 2"
   ]
  },
  {
   "cell_type": "code",
   "execution_count": 5,
   "id": "953007c9",
   "metadata": {
    "scrolled": false
   },
   "outputs": [
    {
     "name": "stdout",
     "output_type": "stream",
     "text": [
      "Final X count: 123\n"
     ]
    }
   ],
   "source": [
    "X_y_tensors = images_ds.map(process_image)\n",
    "\n",
    "count = 0\n",
    "for x, y in X_y_tensors:\n",
    "    d1, d2, d3 = x.shape\n",
    "    if d3 > 3:\n",
    "        continue\n",
    "    count += 1\n",
    "\n",
    "print(\"Final X count:\", count)"
   ]
  }
 ],
 "metadata": {
  "kernelspec": {
   "display_name": "Python 3 (ipykernel)",
   "language": "python",
   "name": "python3"
  },
  "language_info": {
   "codemirror_mode": {
    "name": "ipython",
    "version": 3
   },
   "file_extension": ".py",
   "mimetype": "text/x-python",
   "name": "python",
   "nbconvert_exporter": "python",
   "pygments_lexer": "ipython3",
   "version": "3.9.15"
  },
  "toc": {
   "base_numbering": 1,
   "nav_menu": {},
   "number_sections": true,
   "sideBar": true,
   "skip_h1_title": true,
   "title_cell": "Table of Contents",
   "title_sidebar": "Contents",
   "toc_cell": false,
   "toc_position": {},
   "toc_section_display": true,
   "toc_window_display": true
  }
 },
 "nbformat": 4,
 "nbformat_minor": 5
}
